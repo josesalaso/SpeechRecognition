{
 "cells": [
  {
   "cell_type": "code",
   "execution_count": 27,
   "id": "b2d162c0",
   "metadata": {},
   "outputs": [
    {
     "name": "stdout",
     "output_type": "stream",
     "text": [
      "Escuchando...\n",
      "Transcripción: Steven platform connecting developers worldwide\n",
      "Transcripción: it's in the United States and Beyond\n",
      "Transcripción: talk about your journey towards finding your\n",
      "Transcripción: first of all congratulations on finish\n",
      "Transcripción: to make your profile visible to\n",
      "Transcripción: don't worry your accent\n",
      "Finalizando la captura de audio...\n"
     ]
    }
   ],
   "source": [
    "#!pip install pyaudio\n",
    "#!pip install Speech Recognition\n",
    "\n",
    "import speech_recognition as sr\n",
    "\n",
    "# Crear un reconocedor\n",
    "r = sr.Recognizer()\n",
    "\n",
    "# Ajustes de energía para mejorar la latencia\n",
    "r.energy_threshold = 200  # Ajusta este valor según la sensibilidad que desees\n",
    "r.dynamic_energy_threshold = False  # Desactiva el ajuste dinámico\n",
    "#r.pause_threshold = 0.5  # Reduce el tiempo de pausa para terminar de capturar\n",
    "#r.non_speaking_duration = 0.1  # Ajuste para mejorar la detección inicial de voz\n",
    "\n",
    "\n",
    "# Capturar y transcribir audio en tiempo real\n",
    "try:\n",
    "    with sr.Microphone() as source:\n",
    "        print(\"Escuchando...\")\n",
    "        while True:\n",
    "            # Captura de audio\n",
    "            audio = r.listen(source, phrase_time_limit=3)  # Limita la escucha a 3 segundos\n",
    "            try:\n",
    "                # Transcribir audio\n",
    "                text = r.recognize_google(audio, language=\"us-EN\")\n",
    "                #text = r.recognize_google(audio, language=\"es-ES\")\n",
    "                print(f\"Transcripción: {text}\")\n",
    "            except sr.UnknownValueError:\n",
    "                pass  # Simplemente pasa sin hacer nada si no se entiende el audio\n",
    "            except sr.RequestError as e:\n",
    "                print(f\"Error de solicitud al servicio de reconocimiento; {e}\")\n",
    "except KeyboardInterrupt:\n",
    "    print(\"Finalizando la captura de audio...\")\n"
   ]
  },
  {
   "cell_type": "code",
   "execution_count": null,
   "id": "59da03a7",
   "metadata": {},
   "outputs": [],
   "source": [
    "import speech_recognition as sr\n",
    "\n",
    "# Crear un reconocedor\n",
    "r = sr.Recognizer()\n",
    "\n",
    "# Optimizar parámetros para reducir latencia\n",
    "r.energy_threshold = 200  # Ajusta este valor para una detección más rápida\n",
    "r.dynamic_energy_threshold = False  # Desactiva el ajuste dinámico\n",
    "r.pause_threshold = 0.1  # Reduce el tiempo de pausa para terminar de capturar\n",
    "r.non_speaking_duration = 0.1  # Ajuste para mejorar la detección inicial de voz\n",
    "\n",
    "# Capturar y transcribir audio en tiempo real\n",
    "try:\n",
    "    with sr.Microphone() as source:\n",
    "        print(\"Escuchando...\")\n",
    "        while True:\n",
    "            # Captura de audio con timeout y límite de tiempo reducido\n",
    "            audio = r.listen(source, timeout=1, phrase_time_limit=3)  # Añadido timeout y límite de tiempo de frase\n",
    "            try:\n",
    "                # Transcribir audio\n",
    "                text = r.recognize_google(audio, language=\"us-EN\")\n",
    "                print(f\"Transcripción: {text}\")\n",
    "            except sr.UnknownValueError:\n",
    "                pass  # Simplemente pasa sin hacer nada si no se entiende el audio\n",
    "            except sr.RequestError as e:\n",
    "                print(f\"Error de solicitud al servicio de reconocimiento; {e}\")\n",
    "except KeyboardInterrupt:\n",
    "    print(\"Finalizando la captura de audio...\")\n"
   ]
  },
  {
   "cell_type": "code",
   "execution_count": null,
   "id": "8cbacd54",
   "metadata": {},
   "outputs": [],
   "source": [
    "import speech_recognition as sr\n",
    "\n",
    "# Crear un reconocedor\n",
    "r = sr.Recognizer()\n",
    "\n",
    "# Optimizar parámetros para reducir latencia\n",
    "r.energy_threshold = 200  # Ajusta este valor para una detección más rápida\n",
    "r.dynamic_energy_threshold = False  # Desactiva el ajuste dinámico\n",
    "r.pause_threshold = 0.1  # Reduce el tiempo de pausa para terminar de capturar\n",
    "r.non_speaking_duration = 0.1  # Ajuste para mejorar la detección inicial de voz\n",
    "\n",
    "# Capturar y transcribir audio en tiempo real\n",
    "try:\n",
    "    with sr.Microphone() as source:\n",
    "        print(\"Escuchando...\")\n",
    "        while True:\n",
    "            # Captura de audio con timeout, speech_timeout y límite de tiempo reducido\n",
    "            audio = r.listen(source, timeout=1, phrase_time_limit=5, speech_timeout=2)  # Añadido speech_timeout\n",
    "            try:\n",
    "                # Transcribir audio\n",
    "                text = r.recognize_google(audio, language=\"us-EN\")\n",
    "                print(f\"Transcripción: {text}\")\n",
    "            except sr.UnknownValueError:\n",
    "                pass  # Simplemente pasa sin hacer nada si no se entiende el audio\n",
    "            except sr.RequestError as e:\n",
    "                print(f\"Error de solicitud al servicio de reconocimiento; {e}\")\n",
    "except KeyboardInterrupt:\n",
    "    print(\"Finalizando la captura de audio...\")\n"
   ]
  }
 ],
 "metadata": {
  "kernelspec": {
   "display_name": "Python 3 (ipykernel)",
   "language": "python",
   "name": "python3"
  },
  "language_info": {
   "codemirror_mode": {
    "name": "ipython",
    "version": 3
   },
   "file_extension": ".py",
   "mimetype": "text/x-python",
   "name": "python",
   "nbconvert_exporter": "python",
   "pygments_lexer": "ipython3",
   "version": "3.12.5"
  }
 },
 "nbformat": 4,
 "nbformat_minor": 5
}
