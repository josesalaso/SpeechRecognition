{
 "cells": [
  {
   "cell_type": "code",
   "execution_count": 1,
   "id": "5999c716-2df7-47e4-83fd-609702fdcb7f",
   "metadata": {},
   "outputs": [],
   "source": [
    "!pip install pyaudio\n",
    "!pip install SpeechRecognition"
   ]
  },
  {
   "cell_type": "code",
   "execution_count": null,
   "id": "2cd38966-8c72-4587-a35c-f68788775ede",
   "metadata": {},
   "outputs": [
    {
     "name": "stdout",
     "output_type": "stream",
     "text": [
      "^C\n",
      "^C\n"
     ]
    }
   ],
   "source": [
    "!pip uninstall openai\n",
    "!pip uninstall sounddevice"
   ]
  },
  {
   "cell_type": "code",
   "execution_count": 2,
   "id": "7d5f9c23-7508-4028-9a88-db90d9cad29d",
   "metadata": {},
   "outputs": [
    {
     "name": "stdout",
     "output_type": "stream",
     "text": [
      "Escuchando...\n",
      "Error de solicitud al servicio de reconocimiento; recognition request failed: Bad Request\n",
      "Error de solicitud al servicio de reconocimiento; recognition request failed: Bad Request\n",
      "Transcripción: Google\n",
      "Transcripción: chuck chuck\n",
      "Error de solicitud al servicio de reconocimiento; recognition request failed: Bad Request\n",
      "Transcripción: stop hey Google\n",
      "Transcripción: directions to 577\n",
      "Error de solicitud al servicio de reconocimiento; recognition request failed: Bad Request\n",
      "Finalizando la captura de audio...\n"
     ]
    }
   ],
   "source": [
    "import speech_recognition as sr\n",
    "\n",
    "# Crear un reconocedor\n",
    "r = sr.Recognizer()\n",
    "\n",
    "# Capturar y transcribir audio en tiempo real\n",
    "try:\n",
    "    with sr.Microphone() as source:\n",
    "        print(\"Escuchando...\")        \n",
    "        while True:\n",
    "            audio = r.listen(source)\n",
    "            try:\n",
    "                # Transcribir audio\n",
    "                text = r.recognize_google(audio, language=\"us-EN\")\n",
    "                print(f\"Transcripción: {text}\")\n",
    "            except sr.UnknownValueError:\n",
    "                pass  # Simplemente pasa sin hacer nada\n",
    "            except sr.RequestError as e:\n",
    "                print(f\"Error de solicitud al servicio de reconocimiento; {e}\")\n",
    "except KeyboardInterrupt:\n",
    "    print(\"Finalizando la captura de audio...\")\n",
    "\n"
   ]
  }
 ],
 "metadata": {
  "kernelspec": {
   "display_name": "Python 3 (ipykernel)",
   "language": "python",
   "name": "python3"
  },
  "language_info": {
   "codemirror_mode": {
    "name": "ipython",
    "version": 3
   },
   "file_extension": ".py",
   "mimetype": "text/x-python",
   "name": "python",
   "nbconvert_exporter": "python",
   "pygments_lexer": "ipython3",
   "version": "3.12.4"
  }
 },
 "nbformat": 4,
 "nbformat_minor": 5
}
