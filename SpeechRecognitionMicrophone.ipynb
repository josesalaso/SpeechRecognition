{
 "cells": [
  {
   "cell_type": "code",
   "execution_count": 1,
   "id": "5999c716-2df7-47e4-83fd-609702fdcb7f",
   "metadata": {},
   "outputs": [],
   "source": [
    "!pip install pyaudio\n",
    "!pip install SpeechRecognition"
   ]
  },
  {
   "cell_type": "code",
   "execution_count": 14,
   "id": "b2d162c0",
   "metadata": {},
   "outputs": [
    {
     "name": "stdout",
     "output_type": "stream",
     "text": [
      "Escuchando...\n",
      "Transcripción: what are you doing\n",
      "Transcripción: no you're\n",
      "Transcripción: I need more fast or\n",
      "Transcripción: please where you coming faster or not\n",
      "Transcripción: let us know you're better or not\n",
      "Finalizando la captura de audio...\n"
     ]
    }
   ],
   "source": [
    "import speech_recognition as sr\n",
    "\n",
    "# Crear un reconocedor\n",
    "r = sr.Recognizer()\n",
    "\n",
    "# Ajustes de energía para mejorar la latencia\n",
    "r.energy_threshold = 100  # Ajusta este valor según la sensibilidad que desees\n",
    "r.dynamic_energy_threshold = False  # Desactiva el ajuste dinámico\n",
    "\n",
    "# Capturar y transcribir audio en tiempo real\n",
    "try:\n",
    "    with sr.Microphone() as source:\n",
    "        print(\"Escuchando...\")\n",
    "        while True:\n",
    "            # Captura de audio\n",
    "            audio = r.listen(source, phrase_time_limit=3)  # Limita la escucha a 5 segundos\n",
    "            try:\n",
    "                # Transcribir audio\n",
    "                text = r.recognize_google(audio, language=\"us-EN\")\n",
    "                print(f\"Transcripción: {text}\")\n",
    "            except sr.UnknownValueError:\n",
    "                pass  # Simplemente pasa sin hacer nada si no se entiende el audio\n",
    "            except sr.RequestError as e:\n",
    "                print(f\"Error de solicitud al servicio de reconocimiento; {e}\")\n",
    "except KeyboardInterrupt:\n",
    "    print(\"Finalizando la captura de audio...\")\n"
   ]
  }
 ],
 "metadata": {
  "kernelspec": {
   "display_name": "Python 3 (ipykernel)",
   "language": "python",
   "name": "python3"
  },
  "language_info": {
   "codemirror_mode": {
    "name": "ipython",
    "version": 3
   },
   "file_extension": ".py",
   "mimetype": "text/x-python",
   "name": "python",
   "nbconvert_exporter": "python",
   "pygments_lexer": "ipython3",
   "version": "3.12.5"
  }
 },
 "nbformat": 4,
 "nbformat_minor": 5
}
